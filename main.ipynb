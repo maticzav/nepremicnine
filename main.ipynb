{
 "cells": [
  {
   "cell_type": "markdown",
   "metadata": {},
   "source": [
    "# Analiza dnevnih migracij v Sloveniji\n",
    "\n",
    "V nalogi bom analiziral migracije med Slovenskimi občinami in ugotavljal v kakšnem razmerju so cene nepremičnin, delovne razmere in kje bi bilo mogoče izboljšat zaslužek in standard življenja.\n",
    "\n",
    "Na začetku naložimo vse podatke, ki jih bomo pri analizi uporabili."
   ]
  },
  {
   "cell_type": "code",
   "execution_count": 13,
   "metadata": {},
   "outputs": [],
   "source": [
    "import pandas as pd\n",
    "\n",
    "# Nastavitve prikaza\n",
    "pd.options.display.max_rows = 10\n",
    "\n",
    "%matplotlib inline\n",
    "\n",
    "# Podatki\n",
    "import os.path\n",
    "\n",
    "pot_do_podatkov = \"./podatki\"\n",
    "\n",
    "nepremicnine = pd.read_csv(\n",
    "    os.path.join(pot_do_podatkov, \"nepremicnine.csv\"), \n",
    "    index_col=\"id\"\n",
    ")\n",
    "podjetja = pd.read_csv(os.path.join(pot_do_podatkov, \"podjetja.csv\"))\n",
    "obcine = pd.read_csv(os.path.join(pot_do_podatkov, \"obcine.csv\"))\n",
    "razdalje_med_obcinami = pd.read_csv(os.path.join(pot_do_podatkov, \"razdalje.csv\"))\n",
    "migracije_med_obcinami = pd.read_csv(os.path.join(pot_do_podatkov, \"migracije.csv\"))"
   ]
  },
  {
   "cell_type": "code",
   "execution_count": 88,
   "metadata": {},
   "outputs": [
    {
     "data": {
      "text/plain": [
       "velikost          88.804286\n",
       "cena          233935.714286\n",
       "leto            2018.857143\n",
       "sobe               2.000000\n",
       "cena_na_m2      3118.134138\n",
       "dtype: float64"
      ]
     },
     "execution_count": 88,
     "metadata": {},
     "output_type": "execute_result"
    }
   ],
   "source": [
    "nepremicnine[\"cena_na_m2\"] = nepremicnine.cena / nepremicnine.velikost\n",
    "\n",
    "stanovanja = nepremicnine[\n",
    "    (nepremicnine.sobe == 2.0) &\n",
    "#     (nepremicnine.obcina == \"Ljubljana\") &\n",
    "    (nepremicnine.upravna_enota == \"Lj. Šiška\") &\n",
    "    (nepremicnine.leto > 2010) &\n",
    "#     (nepremicnine.velikost > 40) &\n",
    "    (nepremicnine.posredovanje == \"prodaja\")\n",
    "]\n",
    "\n",
    "# stanovanja.count()\n",
    "stanovanja.mean()"
   ]
  },
  {
   "cell_type": "code",
   "execution_count": null,
   "metadata": {},
   "outputs": [],
   "source": []
  }
 ],
 "metadata": {
  "kernelspec": {
   "display_name": "Python 3",
   "language": "python",
   "name": "python3"
  },
  "language_info": {
   "codemirror_mode": {
    "name": "ipython",
    "version": 3
   },
   "file_extension": ".py",
   "mimetype": "text/x-python",
   "name": "python",
   "nbconvert_exporter": "python",
   "pygments_lexer": "ipython3",
   "version": "3.8.6"
  }
 },
 "nbformat": 4,
 "nbformat_minor": 4
}
