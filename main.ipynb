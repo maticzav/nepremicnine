{
 "cells": [
  {
   "cell_type": "markdown",
   "metadata": {},
   "source": [
    "# Analiza vpliva centralizacije na občine v Sloveniji\n",
    "\n",
    "Cilj naloge je ugotoviti katere občine bi pridobile največ z decentralizacijo delovnih mest v Sloveniji. V nalogi bom analiziral migracije med Slovenskimi občinami in se naslajal na podatke o zaslužkih ljudi v danih občinah, njihovih migracijah ter cene nepremičnin. S temi podatki bom ugotavljal v katerih občinah bi bilo mogoče najbolj izboljšat zaslužek in standard življenja. "
   ]
  },
  {
   "cell_type": "markdown",
   "metadata": {},
   "source": [
    "## Uvoz podatkov\n",
    "\n",
    "Na začetku naloge bom iz zbranih podatkov izračunal kazalnike, ki vplivajo na posamezno občino. S tem namenom naložimo vse podatke, ki jih bomo pri analizi uporabili."
   ]
  },
  {
   "cell_type": "code",
   "execution_count": 1,
   "metadata": {},
   "outputs": [],
   "source": [
    "import pandas as pd\n",
    "\n",
    "# Nastavitve prikaza\n",
    "pd.options.display.max_rows = 20\n",
    "\n",
    "%matplotlib inline\n",
    "\n",
    "# Podatki\n",
    "import os.path\n",
    "\n",
    "PODATKI = \"./podatki\"\n",
    "\n",
    "nepremicnine = pd.read_csv(os.path.join(PODATKI, \"nepremicnine.csv\"), index_col=\"id\")\n",
    "podjetja = pd.read_csv(os.path.join(PODATKI, \"podjetja.csv\"), index_col=\"id\")\n",
    "razdalje = pd.read_csv(os.path.join(PODATKI, \"razdalje.csv\"), index_col=\"zacetek\")\n",
    "migracije = pd.read_csv(os.path.join(PODATKI, \"sistat/migracije.csv\"))\n",
    "migracije_v_obcino = pd.read_csv(os.path.join(PODATKI, \"migracije_v_obcino.csv\"), index_col=[0])\n",
    "migracije_iz_obcine = pd.read_csv(os.path.join(PODATKI, \"migracije_iz_obcine.csv\"), index_col=[0])\n",
    "obcine = pd.read_csv(os.path.join(PODATKI, \"obcine.csv\"), index_col=\"ime\")\n",
    "\n",
    "# Pomožne vrednosti\n",
    "vektor_obcin = pd.Series(obcine.index, index=obcine.index)"
   ]
  },
  {
   "cell_type": "markdown",
   "metadata": {},
   "source": [
    "Poglejmo najprej s kakšnimi podatki bomo delali. Naložili smo podatke o nepremičninah, ki vsebujejo podatke o vrsti nepremičnine, ceni, vrsti posredovanja, številu sob in podobno...; prav tako sem zbral podatke o razdaljah med posameznimi občinami in migracijah iz posamezne občine v druge občine in v posamezno občino iz drugih občin, ki nam bodo pomagali ocenit koliko povprečno posameznik izgubi časa in denarja zaradi vožnje na delo.\n",
    "\n",
    "Poleg teh podatkov, imamo še informacije o večjih Slovenskih podjetjih, kar nam bo pomagalo ocenit katera podjetja delajo največjo izgubo s trenutno ureditvijo.\n",
    "\n",
    "Vse podatke pa bomo združevali po občinah, zato imamo tudi statistične podatke o posamezni občini. Podatke o nepremičninah, podjetjih in migracijah sem s pomočjo Levenshteinovega algoritma popravil, da se občine ujemajo z občinami iz statističnega urada RS."
   ]
  },
  {
   "cell_type": "markdown",
   "metadata": {},
   "source": [
    "## Obdelava podatkov o nepremičninah\n",
    "\n",
    "Najprej izračunajmo povprečno vrednosti nepremičnin v posamezni občini. Pri tem se osredotočimo na hiše in stanovanja, ki se prodajajo in si zabeležimo še koliko nepremičnin prištejemo k povprečju. To nam bo pomagalo ocenit kako dobra je naša ocena.\n",
    "\n",
    "Cene nepremičnin nam bodo pomagale ocenit, koliko migrantje v posamezni občini prišparajo z nakupom nepremičnine zunaj občine v kateri delajo. Za izračun teh podatkov bom uporabil podatke o povprečni ceni nepremičnin v dani občini in verjetnosti, da občan dane občine  dela v poljubni drugi občini. Ker želim izračunati relativno ceno nepremičnine glede na posamezno občino bom gledal razliko v ceni nepremičnine med občino v kateri smo in občino v kateri migrant dela."
   ]
  },
  {
   "cell_type": "code",
   "execution_count": 2,
   "metadata": {
    "scrolled": true
   },
   "outputs": [],
   "source": [
    "# Vsem nepremičninam izračunamo ceno kvadratnega metra.\n",
    "nepremicnine[\"cena_na_m2\"] = nepremicnine.cena / nepremicnine.velikost\n",
    "\n",
    "# Zajem\n",
    "nepremicnine_po_obcinah = nepremicnine[\n",
    "    nepremicnine.vrsta.isin([\"Hiša\", \"Stanovanje\"]) & \n",
    "    (nepremicnine.posredovanje == \"prodaja\")\n",
    "].groupby(\"obcina\")\n",
    "    \n",
    "# Obdelaj in priključi podatke k občinam.\n",
    "obcine[\"cena_na_m2\"] = nepremicnine_po_obcinah[\"cena_na_m2\"].mean()\n",
    "obcine[\"stevilo_nepremicnin\"] = nepremicnine_po_obcinah.size()\n",
    "\n",
    "# Ocena razlike v ceni.\n",
    "def relativna_cena_na_m2(obcina):\n",
    "    \"\"\"Vrne relativno razliko cene nepremičnin v občini glede na druge občine.\"\"\"\n",
    "    \n",
    "    relativne_cene = (obcine.loc[obcina].cena_na_m2 - obcine.cena_na_m2) * migracije_iz_obcine[obcina]\n",
    "    return relativne_cene.sum()\n",
    "\n",
    "obcine[\"relativna_cena_na_m2\"] = vektor_obcin.apply(relativna_cena_na_m2)"
   ]
  },
  {
   "cell_type": "markdown",
   "metadata": {},
   "source": [
    "## Obdelava podatkov o migracijah\n",
    "\n",
    "Izračunajmo sedaj kako Slovenci migriramo med občinami. Zanima nas, kakšen delež migrantov iz posamezne regije gre povprečno v dano drugo regijo. Povedano drugače, zanima nas kakšna je verjetnost, da oseba, ki živi v Ljubljani in migrira, migrira v Maribor, Koper...\n",
    "\n",
    "Za lažjo obdelavo podatkov sem verjetnosti o premikih izračunal v posebnem programu in jih uvozim kot tabeli o migracijah iz obcine in v obcino.\n",
    "\n",
    "### Izračun stroškov migracije\n",
    "\n",
    "Na podlagi verjetnosti, da občani dane občine migrirajo v poljubno drugo občino, bom izračunal koliko časa in kakšno pot, v povprečju, prebivalec poljubne občine prevozi. Podatke o povprečnih vrednostih časa in razdalje migracije iz dane občine bom nato priključil tabeli občin."
   ]
  },
  {
   "cell_type": "code",
   "execution_count": 3,
   "metadata": {},
   "outputs": [],
   "source": [
    "# Izračunamo koliko časa in kilometrov v povprečju posameznik iz dane občine porabi.\n",
    "def pot(obcina):\n",
    "    migracije = migracije_iz_obcine[obcina]\n",
    "    poti = razdalje[razdalje.index == obcina].set_index(\"konec\")\n",
    "\n",
    "    df = pd.DataFrame({ \n",
    "        \"razdalja\": poti.razdalja, \n",
    "        \"cas\": poti.cas, \n",
    "        \"migracije\": migracije\n",
    "    }, index=migracije.index)\n",
    "\n",
    "    df[\"rel_razdalja\"] = df.razdalja * df.migracije\n",
    "    df[\"rel_cas\"] = df.cas * df.migracije\n",
    "    \n",
    "    return pd.Series(\n",
    "        [\n",
    "            df[\"rel_razdalja\"].sum(), \n",
    "            df[\"rel_cas\"].sum()\n",
    "        ], \n",
    "        index=[\"razdalja\", \"cas\"]\n",
    "    )\n",
    "\n",
    "\n",
    "# Izračunaj na vseh občinah.\n",
    "poti = pd.DataFrame(vektor_obcin.apply(pot), columns=[\"razdalja\", \"cas\"])\n",
    "\n",
    "# Dodaj k občinam\n",
    "obcine[\"razdalja_migracije\"] = poti.razdalja\n",
    "obcine[\"cas_migracije\"] = poti.cas"
   ]
  },
  {
   "cell_type": "markdown",
   "metadata": {},
   "source": [
    "Na podlagi podatkov o migracijah lahko ocenimo koliko denarja posameznik v občini nameni za migracije. \n",
    "\n",
    "To bom naredil tako, da bom na podlagi povprečne dolžine poti do delovnega mesta, izračunal koliko bencina se porabi za pot ter iz cene naftnih derivatov izračunal oceno potnih stroškov. Na podlagi povprečne neto plače v občini bom izračunal še urno postavko delavca ter upošteval povprečni čas vožnje na delovno mesto za oceno vrednosti časa.\n",
    "\n",
    "Povprečno porabo avtomobila sem pobral iz [te strani](https://www.iea.org/reports/fuel-consumption-of-cars-and-vans) in znaša malo več kot 7L/100km, kar bom zaokrožil na 7L/100km. Povprečne cene goriva v zadnjih štririh letih sem pobral iz [strani](https://www.energetika-portal.si/statistika/statisticna-podrocja/cene-naftnih-derivatov/). Na podlagi danih cen, sem se za oceno odločil vzeti 1.1€/L, čeprav je, po vsej verjetnosti, cena goriva malce višja.\n",
    "\n",
    "Izračunal bom še znesek nadomestila, ki ga migrantje prejmejo od svojih podjetji kot obračun prevoza na delo. Povrnjen znesek, kot sem najšel v [viru](https://mladipodjetnik.si/novice-in-dogodki/novice/obracun-prevoz-na-delo-ter-kilometrine-2), znaša 0.18€/km.\n",
    "\n",
    "Stroške bom izračunal za obdobje enega mesca za vsakega posameznika, saj so tudi delavci v večini primerov plačani za eno-mesečno obdobje."
   ]
  },
  {
   "cell_type": "code",
   "execution_count": 4,
   "metadata": {},
   "outputs": [],
   "source": [
    "# Stroški prevoza\n",
    "\n",
    "poraba_goriva = 7 / 100\n",
    "cena_goriva = 1.1 / 1\n",
    "visina_povracila_stroskov = 0.18 / 1\n",
    "\n",
    "delovni_dnevi_v_mescu = 4 * 5\n",
    "st_potovanj = delovni_dnevi_v_mescu * 2\n",
    "\n",
    "# Izračuni vrednosti\n",
    "\n",
    "povprecna_razdalja_migracij = obcine.razdalja_migracije / 1000\n",
    "obcine[\"stroski_goriva\"] = povprecna_razdalja_migracij * poraba_goriva * cena_goriva * st_potovanj\n",
    "\n",
    "# Čas potovanja\n",
    "delovne_ure_v_mescu = delovni_dnevi_v_mescu * 8\n",
    "obcine[\"povprecna_urna_postavka\"] = obcine.placa_neto / delovne_ure_v_mescu\n",
    "\n",
    "povprecen_cas_migracij = obcine.cas_migracije / 3600\n",
    "obcine[\"stroski_prevoza\"] = povprecen_cas_migracij * st_potovanj * obcine.povprecna_urna_postavka\n",
    "\n",
    "# Povračilo potnih stroškov na prebivalca.\n",
    "obcine[\"povracilo_stroskov_migracije_delavca\"] =  povprecna_razdalja_migracij * st_potovanj * visina_povracila_stroskov\n",
    "\n",
    "# Združimo vse stroške.\n",
    "obcine[\"stroski_migracije_delavca\"] = obcine.stroski_prevoza + obcine.stroski_goriva\n",
    "obcine[\"razlika_v_stroskih_delavca\"] = obcine.povracilo_stroskov_migracije_delavca - obcine.stroski_migracije_delavca"
   ]
  },
  {
   "cell_type": "markdown",
   "metadata": {},
   "source": [
    "## Obdelava podatkov o podjetjih\n",
    "\n",
    "Ocenili bi radi kakšno izgubo delajo podjetja zaradi plačevanja potnih stroškov svojih delavcev. To bomo naredili tako, da bomo za vsako podjetje ocenili koliko stroškov plača na enega zaposlenega glede na to iz katere občine v povprečju prihaja.\n",
    "\n",
    "Predpostavil bom, da imajo podjejta vsa delovna mesta v občini registracije in ocenil katera podjetja zaradi prevoza svojih delavcev plačajo največ potnih stroškov. Za boljšo oceno, bom nastavil tudi najmanjšo oddaljenost občine, saj predpostavljam, da podjetja ne plačajo vseh potnih stroškov blizu živečih."
   ]
  },
  {
   "cell_type": "code",
   "execution_count": 5,
   "metadata": {},
   "outputs": [],
   "source": [
    "# Nastavitve parametrov\n",
    "\n",
    "ODDALJENOST = 50_000\n",
    "\n",
    "# Stroški prevoza delavca za podjetje v posamezni občini.\n",
    "def potni_stroski(obcina):\n",
    "    \"\"\"\n",
    "    Vrne informacijo o potnih stroških posameznika, ki pride delat\n",
    "    v dano občino.\n",
    "    Za boljši približek, občine, ki so blizu naši občini filtriramo.\n",
    "    \"\"\"\n",
    "    \n",
    "    poti = razdalje[razdalje.index == obcina].set_index(\"konec\")\n",
    "    index_daljnih_obcin = poti[poti.razdalja > ODDALJENOST].index\n",
    "    \n",
    "    daljne_obcine = obcine[obcine.index.isin(index_daljnih_obcin)]\n",
    "    stroski = migracije_v_obcino[obcina] * daljne_obcine.povracilo_stroskov_migracije_delavca\n",
    "    \n",
    "    return stroski.sum()\n",
    "\n",
    "# Stroški podjetja za prevoz delavcev.\n",
    "podjetja[\"potni_stroski\"] = podjetja.obcina.apply(potni_stroski) * podjetja.st_zaposlenih"
   ]
  },
  {
   "cell_type": "markdown",
   "metadata": {},
   "source": [
    "Da bom podatke lahko primerjal med občinami, bom izračunal koliko denarja prebivalci dane občine dobijo v obliki potnih stroškov skupaj. To pomeni, koliko denarja podjetja iz cele Slovenije v povprečju za potne stroške dajo v posamezno občino."
   ]
  },
  {
   "cell_type": "code",
   "execution_count": 6,
   "metadata": {},
   "outputs": [],
   "source": [
    "# Izguba zaradi potnih stroškov.\n",
    "obcine[\"stroski_migracij\"] = podjetja.groupby(\"obcina\").potni_stroski.sum()\n",
    "\n",
    "\n",
    "# Izračun potnih stroškov, ki se zlivajo v posamezno občino.\n",
    "def skupno_povracilo(obcina):\n",
    "    \"\"\"\n",
    "    Vrne informacijo o povračilu skupnih potnih stroškov, ki jih delavci iz\n",
    "    dane občine prejmejo vsak mesec.\n",
    "    \"\"\"\n",
    "    povracila = migracije_v_obcino[obcina] * obcine[\"stroski_migracij\"]\n",
    "    \n",
    "    return povracila.sum()\n",
    "    \n",
    "obcine[\"priliv_stroskov_migracij\"] = vektor_obcin.apply(skupno_povracilo)"
   ]
  },
  {
   "cell_type": "markdown",
   "metadata": {},
   "source": [
    "## Zaključek\n",
    "\n",
    "Na podlagi ocene potnih stroškov v dani občini lahko ocenim v katero občino je najboljše postavit coworking-spacee. V najboljšo občino se izteka največ denarja, saj ga lahko podjetje s coworking-spaci bolj efektivno uporabi in izboljša življenjski standard tamkajšnjih občanov pri tem pa zasluži.\n",
    "\n",
    "Skozi raziskavo lahko opazimo tudi, da delavci v večini primerov dobijo povrnjene vse stroške svojih poti. Predvidevamo lahko, da ljudje iz posameznih občin ne bodo pripravljeni plačati veliko denarja za delo blizu svojega doma - razliko lahko prodajalec storitve naredi z izpostavljanjem dodatnega časa z družino."
   ]
  },
  {
   "cell_type": "code",
   "execution_count": 8,
   "metadata": {},
   "outputs": [
    {
     "data": {
      "text/html": [
       "<div>\n",
       "<style scoped>\n",
       "    .dataframe tbody tr th:only-of-type {\n",
       "        vertical-align: middle;\n",
       "    }\n",
       "\n",
       "    .dataframe tbody tr th {\n",
       "        vertical-align: top;\n",
       "    }\n",
       "\n",
       "    .dataframe thead th {\n",
       "        text-align: right;\n",
       "    }\n",
       "</style>\n",
       "<table border=\"1\" class=\"dataframe\">\n",
       "  <thead>\n",
       "    <tr style=\"text-align: right;\">\n",
       "      <th></th>\n",
       "      <th>cena_na_m2</th>\n",
       "      <th>stevilo_nepremicnin</th>\n",
       "      <th>priliv_stroskov_migracij</th>\n",
       "    </tr>\n",
       "    <tr>\n",
       "      <th>ime</th>\n",
       "      <th></th>\n",
       "      <th></th>\n",
       "      <th></th>\n",
       "    </tr>\n",
       "  </thead>\n",
       "  <tbody>\n",
       "    <tr>\n",
       "      <th>Osilnica</th>\n",
       "      <td>333.333333</td>\n",
       "      <td>1.0</td>\n",
       "      <td>3.785600e+06</td>\n",
       "    </tr>\n",
       "    <tr>\n",
       "      <th>Kranjska Gora</th>\n",
       "      <td>2608.584132</td>\n",
       "      <td>55.0</td>\n",
       "      <td>3.712999e+06</td>\n",
       "    </tr>\n",
       "    <tr>\n",
       "      <th>Kostel</th>\n",
       "      <td>2092.648621</td>\n",
       "      <td>13.0</td>\n",
       "      <td>3.539966e+06</td>\n",
       "    </tr>\n",
       "    <tr>\n",
       "      <th>Bohinj</th>\n",
       "      <td>2667.491885</td>\n",
       "      <td>65.0</td>\n",
       "      <td>3.534076e+06</td>\n",
       "    </tr>\n",
       "    <tr>\n",
       "      <th>Luče</th>\n",
       "      <td>1364.039346</td>\n",
       "      <td>146.0</td>\n",
       "      <td>3.514588e+06</td>\n",
       "    </tr>\n",
       "  </tbody>\n",
       "</table>\n",
       "</div>"
      ],
      "text/plain": [
       "                cena_na_m2  stevilo_nepremicnin  priliv_stroskov_migracij\n",
       "ime                                                                      \n",
       "Osilnica        333.333333                  1.0              3.785600e+06\n",
       "Kranjska Gora  2608.584132                 55.0              3.712999e+06\n",
       "Kostel         2092.648621                 13.0              3.539966e+06\n",
       "Bohinj         2667.491885                 65.0              3.534076e+06\n",
       "Luče           1364.039346                146.0              3.514588e+06"
      ]
     },
     "execution_count": 8,
     "metadata": {},
     "output_type": "execute_result"
    }
   ],
   "source": [
    "parametri = [\n",
    "    \"cena_na_m2\",\n",
    "    \"stevilo_nepremicnin\",\n",
    "    \"priliv_stroskov_migracij\"\n",
    "]\n",
    "\n",
    "obcine.sort_values(\"priliv_stroskov_migracij\", ascending=False)[parametri].head(5)"
   ]
  },
  {
   "cell_type": "markdown",
   "metadata": {},
   "source": [
    "Namenimo še nekaj besed ovrednotenju rezultatov. Vidimo lahko, da se je v skupnem povračilu pojavila napaka saj je skupna vsota vseh prilivov občin v Sloveniji petkrat večja kot vsota vseh izdatkov. Večina vrednosti je bila ocenjena za namen okvirnega vpogleda v situacijo v Sloveniji.\n",
    "\n",
    "Očitno je mogoče narediti še velio izboljšav v raziskavi. Sigurno pa je to dober začetek. Zanimivo bi bilo izračunati še kolikšen bi moral bit dodatek k plači glede na odaljenost od delovnega mesta za obdobje 10 let in katere občine delajo največjo izgubo z dnevnimi migracijami."
   ]
  }
 ],
 "metadata": {
  "kernelspec": {
   "display_name": "Python 3",
   "language": "python",
   "name": "python3"
  },
  "language_info": {
   "codemirror_mode": {
    "name": "ipython",
    "version": 3
   },
   "file_extension": ".py",
   "mimetype": "text/x-python",
   "name": "python",
   "nbconvert_exporter": "python",
   "pygments_lexer": "ipython3",
   "version": "3.8.6"
  }
 },
 "nbformat": 4,
 "nbformat_minor": 4
}
